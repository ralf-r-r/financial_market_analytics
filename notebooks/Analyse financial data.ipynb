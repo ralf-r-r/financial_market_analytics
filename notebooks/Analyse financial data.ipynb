{
 "cells": [
  {
   "cell_type": "code",
   "execution_count": 2,
   "id": "8801e767",
   "metadata": {},
   "outputs": [],
   "source": [
    "from yahoo_fin import stock_info as si\n",
    "import pandas as pd\n",
    "import numpy as np\n",
    "from typing import List\n",
    "import yfinance as yf\n",
    "import re\n",
    "from io import BytesIO, StringIO\n",
    "import boto3\n",
    "import psycopg2"
   ]
  },
  {
   "cell_type": "code",
   "execution_count": 24,
   "id": "b8f4cb4e",
   "metadata": {},
   "outputs": [],
   "source": [
    "conn_string = \"dbname='dev' \"\n",
    "conn_string += \"port='5439' \"\n",
    "conn_string += \"user='xx' \"\n",
    "conn_string += \"password='xx' \"\n",
    "conn_string += \"host='xx'\"  \n",
    "\n",
    "\n",
    "#connect to Redshift\n",
    "con = psycopg2.connect(conn_string)\n",
    "\n",
    "sql = (\"\"\"SELECT spot_prices.symbol, spot_prices.year,spot_prices.month, spot_prices.day,\n",
    "spot_prices.closing_price, spot_prices.volume, spot_prices.quarter,\n",
    "m3_money_supply.value as money_supply, m3_money_supply.country as central_bank,\n",
    "tickers.indices, \n",
    "spot_prices.closing_price/fund.netinc*fund.shareswa as pe_ratio\n",
    "from spot_prices\n",
    "inner join m3_money_supply \n",
    "on  m3_money_supply.quarter = spot_prices.quarter\n",
    "AND  m3_money_supply.year = spot_prices.year\n",
    "inner join (SELECT * from fundamentals\n",
    "WHERE dimension = 'ARY'\n",
    "AND netinc > 0.0) as fund\n",
    "on  fund.year = spot_prices.year\n",
    "AND  fund.ticker = spot_prices.symbol\n",
    "inner join tickers \n",
    "on tickers.symbol = spot_prices.symbol;\n",
    "\"\"\")\n",
    "\n",
    "cur = con.cursor()\n",
    "cur.execute(sql)\n",
    "rows = cur.fetchall()\n",
    "con.close() "
   ]
  },
  {
   "cell_type": "code",
   "execution_count": 41,
   "id": "17127068",
   "metadata": {},
   "outputs": [],
   "source": [
    "cols = [\n",
    "    \"symbol\",\n",
    "    \"year\",\n",
    "    \"month\",\n",
    "    \"day\",\n",
    "    \"closing_price\",\n",
    "    \"valume\",\n",
    "    \"quarter\",\n",
    "    \"money_supply\",\n",
    "    \"central_bank\",\n",
    "    \"indices\",\n",
    "    \"pe_ratio\"\n",
    "]\n",
    "df = pd.DataFrame(rows, columns = cols )"
   ]
  },
  {
   "cell_type": "code",
   "execution_count": 42,
   "id": "bfe08338",
   "metadata": {},
   "outputs": [
    {
     "data": {
      "text/html": [
       "<div>\n",
       "<style scoped>\n",
       "    .dataframe tbody tr th:only-of-type {\n",
       "        vertical-align: middle;\n",
       "    }\n",
       "\n",
       "    .dataframe tbody tr th {\n",
       "        vertical-align: top;\n",
       "    }\n",
       "\n",
       "    .dataframe thead th {\n",
       "        text-align: right;\n",
       "    }\n",
       "</style>\n",
       "<table border=\"1\" class=\"dataframe\">\n",
       "  <thead>\n",
       "    <tr style=\"text-align: right;\">\n",
       "      <th></th>\n",
       "      <th>symbol</th>\n",
       "      <th>year</th>\n",
       "      <th>month</th>\n",
       "      <th>day</th>\n",
       "      <th>closing_price</th>\n",
       "      <th>valume</th>\n",
       "      <th>quarter</th>\n",
       "      <th>money_supply</th>\n",
       "      <th>central_bank</th>\n",
       "      <th>indices</th>\n",
       "      <th>pe_ratio</th>\n",
       "    </tr>\n",
       "  </thead>\n",
       "  <tbody>\n",
       "    <tr>\n",
       "      <th>0</th>\n",
       "      <td>ABC</td>\n",
       "      <td>1999</td>\n",
       "      <td>11</td>\n",
       "      <td>3</td>\n",
       "      <td>3.281250</td>\n",
       "      <td>4517600.0</td>\n",
       "      <td>Q4</td>\n",
       "      <td>38.30906</td>\n",
       "      <td>United States</td>\n",
       "      <td>S&amp;P 500</td>\n",
       "      <td>9.862912</td>\n",
       "    </tr>\n",
       "    <tr>\n",
       "      <th>1</th>\n",
       "      <td>ABC</td>\n",
       "      <td>1999</td>\n",
       "      <td>11</td>\n",
       "      <td>3</td>\n",
       "      <td>3.281250</td>\n",
       "      <td>4517600.0</td>\n",
       "      <td>Q4</td>\n",
       "      <td>43.50537</td>\n",
       "      <td>Euro area (19 countries)</td>\n",
       "      <td>S&amp;P 500</td>\n",
       "      <td>9.862912</td>\n",
       "    </tr>\n",
       "    <tr>\n",
       "      <th>2</th>\n",
       "      <td>AIG</td>\n",
       "      <td>1999</td>\n",
       "      <td>11</td>\n",
       "      <td>3</td>\n",
       "      <td>1354.166626</td>\n",
       "      <td>179205.0</td>\n",
       "      <td>Q4</td>\n",
       "      <td>38.30906</td>\n",
       "      <td>United States</td>\n",
       "      <td>S&amp;P 100,S&amp;P 500</td>\n",
       "      <td>31.101631</td>\n",
       "    </tr>\n",
       "    <tr>\n",
       "      <th>3</th>\n",
       "      <td>AIG</td>\n",
       "      <td>1999</td>\n",
       "      <td>11</td>\n",
       "      <td>3</td>\n",
       "      <td>1354.166626</td>\n",
       "      <td>179205.0</td>\n",
       "      <td>Q4</td>\n",
       "      <td>43.50537</td>\n",
       "      <td>Euro area (19 countries)</td>\n",
       "      <td>S&amp;P 100,S&amp;P 500</td>\n",
       "      <td>31.101631</td>\n",
       "    </tr>\n",
       "    <tr>\n",
       "      <th>4</th>\n",
       "      <td>ARE</td>\n",
       "      <td>1999</td>\n",
       "      <td>11</td>\n",
       "      <td>3</td>\n",
       "      <td>30.375000</td>\n",
       "      <td>24000.0</td>\n",
       "      <td>Q4</td>\n",
       "      <td>38.30906</td>\n",
       "      <td>United States</td>\n",
       "      <td>S&amp;P 500</td>\n",
       "      <td>18.630000</td>\n",
       "    </tr>\n",
       "    <tr>\n",
       "      <th>5</th>\n",
       "      <td>ARE</td>\n",
       "      <td>1999</td>\n",
       "      <td>11</td>\n",
       "      <td>3</td>\n",
       "      <td>30.375000</td>\n",
       "      <td>24000.0</td>\n",
       "      <td>Q4</td>\n",
       "      <td>43.50537</td>\n",
       "      <td>Euro area (19 countries)</td>\n",
       "      <td>S&amp;P 500</td>\n",
       "      <td>18.630000</td>\n",
       "    </tr>\n",
       "    <tr>\n",
       "      <th>6</th>\n",
       "      <td>BBWI</td>\n",
       "      <td>1999</td>\n",
       "      <td>10</td>\n",
       "      <td>21</td>\n",
       "      <td>16.875505</td>\n",
       "      <td>1126907.0</td>\n",
       "      <td>Q4</td>\n",
       "      <td>38.30906</td>\n",
       "      <td>United States</td>\n",
       "      <td>S&amp;P 500</td>\n",
       "      <td>3.749830</td>\n",
       "    </tr>\n",
       "    <tr>\n",
       "      <th>7</th>\n",
       "      <td>BBWI</td>\n",
       "      <td>1999</td>\n",
       "      <td>10</td>\n",
       "      <td>21</td>\n",
       "      <td>16.875505</td>\n",
       "      <td>1126907.0</td>\n",
       "      <td>Q4</td>\n",
       "      <td>43.50537</td>\n",
       "      <td>Euro area (19 countries)</td>\n",
       "      <td>S&amp;P 500</td>\n",
       "      <td>3.749830</td>\n",
       "    </tr>\n",
       "    <tr>\n",
       "      <th>8</th>\n",
       "      <td>BIO</td>\n",
       "      <td>1999</td>\n",
       "      <td>12</td>\n",
       "      <td>20</td>\n",
       "      <td>11.937500</td>\n",
       "      <td>8200.0</td>\n",
       "      <td>Q4</td>\n",
       "      <td>38.30906</td>\n",
       "      <td>United States</td>\n",
       "      <td>S&amp;P 500</td>\n",
       "      <td>24.667371</td>\n",
       "    </tr>\n",
       "    <tr>\n",
       "      <th>9</th>\n",
       "      <td>BIO</td>\n",
       "      <td>1999</td>\n",
       "      <td>12</td>\n",
       "      <td>20</td>\n",
       "      <td>11.937500</td>\n",
       "      <td>8200.0</td>\n",
       "      <td>Q4</td>\n",
       "      <td>43.50537</td>\n",
       "      <td>Euro area (19 countries)</td>\n",
       "      <td>S&amp;P 500</td>\n",
       "      <td>24.667371</td>\n",
       "    </tr>\n",
       "  </tbody>\n",
       "</table>\n",
       "</div>"
      ],
      "text/plain": [
       "  symbol  year  month  day  closing_price     valume quarter  money_supply  \\\n",
       "0    ABC  1999     11    3       3.281250  4517600.0      Q4      38.30906   \n",
       "1    ABC  1999     11    3       3.281250  4517600.0      Q4      43.50537   \n",
       "2    AIG  1999     11    3    1354.166626   179205.0      Q4      38.30906   \n",
       "3    AIG  1999     11    3    1354.166626   179205.0      Q4      43.50537   \n",
       "4    ARE  1999     11    3      30.375000    24000.0      Q4      38.30906   \n",
       "5    ARE  1999     11    3      30.375000    24000.0      Q4      43.50537   \n",
       "6   BBWI  1999     10   21      16.875505  1126907.0      Q4      38.30906   \n",
       "7   BBWI  1999     10   21      16.875505  1126907.0      Q4      43.50537   \n",
       "8    BIO  1999     12   20      11.937500     8200.0      Q4      38.30906   \n",
       "9    BIO  1999     12   20      11.937500     8200.0      Q4      43.50537   \n",
       "\n",
       "               central_bank          indices   pe_ratio  \n",
       "0             United States          S&P 500   9.862912  \n",
       "1  Euro area (19 countries)          S&P 500   9.862912  \n",
       "2             United States  S&P 100,S&P 500  31.101631  \n",
       "3  Euro area (19 countries)  S&P 100,S&P 500  31.101631  \n",
       "4             United States          S&P 500  18.630000  \n",
       "5  Euro area (19 countries)          S&P 500  18.630000  \n",
       "6             United States          S&P 500   3.749830  \n",
       "7  Euro area (19 countries)          S&P 500   3.749830  \n",
       "8             United States          S&P 500  24.667371  \n",
       "9  Euro area (19 countries)          S&P 500  24.667371  "
      ]
     },
     "execution_count": 42,
     "metadata": {},
     "output_type": "execute_result"
    }
   ],
   "source": [
    "df.head(10)"
   ]
  },
  {
   "cell_type": "code",
   "execution_count": 43,
   "id": "32130e88",
   "metadata": {},
   "outputs": [],
   "source": [
    "df_SP500_FED = df[df[\"central_bank\"] == \"United States\"] \n",
    "df_SP500_FED = df_SP500_FED[df_SP500_FED[\"indices\"].str.contains(\"S&P 500\")] \n",
    "\n",
    "results = []\n",
    "for year in df_SP500_FED[\"year\"].unique():\n",
    "    df_tmp = df_SP500_FED[df_SP500_FED[\"year\"] == year]\n",
    "    results.append(\n",
    "    dict(\n",
    "        year = year,\n",
    "        avg_pre_ratio = np.mean(df_tmp[\"pe_ratio\"].values),\n",
    "        money_supply = np.mean(df_tmp[\"money_supply\"].values)\n",
    "    ))\n",
    "    \n",
    "df_sp500 = pd.DataFrame(results)"
   ]
  },
  {
   "cell_type": "code",
   "execution_count": 44,
   "id": "c2885f7d",
   "metadata": {},
   "outputs": [],
   "source": [
    "df_NASDAQ_FED = df[df[\"central_bank\"] == \"United States\"] \n",
    "df_NASDAQ_FED = df_NASDAQ_FED[df_NASDAQ_FED[\"indices\"].str.contains(\"NASDAQ 100\")] \n",
    "\n",
    "results = []\n",
    "for year in df_NASDAQ_FED[\"year\"].unique():\n",
    "    df_tmp = df_NASDAQ_FED[df_NASDAQ_FED[\"year\"] == year]\n",
    "    results.append(\n",
    "    dict(\n",
    "        year = year,\n",
    "        avg_pre_ratio = np.mean(df_tmp[\"pe_ratio\"].values),\n",
    "        money_supply = np.mean(df_tmp[\"money_supply\"].values)\n",
    "    ))\n",
    "    \n",
    "df_nasdaq = pd.DataFrame(results)"
   ]
  },
  {
   "cell_type": "markdown",
   "id": "285b512f",
   "metadata": {},
   "source": [
    "## Average pe ratio over time"
   ]
  },
  {
   "cell_type": "code",
   "execution_count": 53,
   "id": "110a3343",
   "metadata": {},
   "outputs": [
    {
     "data": {
      "text/plain": [
       "<matplotlib.legend.Legend at 0x7f8cf01bbe48>"
      ]
     },
     "execution_count": 53,
     "metadata": {},
     "output_type": "execute_result"
    },
    {
     "data": {
      "image/png": "[encoded data removed]",
      "text/plain": [
       "<Figure size 576x432 with 1 Axes>"
      ]
     },
     "metadata": {
      "needs_background": "light"
     },
     "output_type": "display_data"
    }
   ],
   "source": [
    "import matplotlib.pyplot as plt\n",
    "\n",
    "plt.figure(figsize = (8,6))\n",
    "plt.scatter(df_nasdaq[\"year\"],df_nasdaq[\"avg_pre_ratio\"], label = \"NASDAQ 100\")\n",
    "plt.scatter(df_sp500[\"year\"],df_sp500[\"avg_pre_ratio\"], label = \"S&P 500\")\n",
    "plt.ylabel(\"Avg. pe_ratio\")\n",
    "plt.xlabel(\"Time (years)\")\n",
    "plt.ylim((0,100))\n",
    "plt.legend()"
   ]
  },
  {
   "cell_type": "markdown",
   "id": "8a5638f6",
   "metadata": {},
   "source": [
    "## Average pe ratio vs money supply"
   ]
  },
  {
   "cell_type": "code",
   "execution_count": 85,
   "id": "514878ae",
   "metadata": {},
   "outputs": [
    {
     "data": {
      "text/plain": [
       "<matplotlib.legend.Legend at 0x7f8d2122f5c0>"
      ]
     },
     "execution_count": 85,
     "metadata": {},
     "output_type": "execute_result"
    },
    {
     "data": {
      "image/png": "[encoded data removed]",
      "text/plain": [
       "<Figure size 576x432 with 1 Axes>"
      ]
     },
     "metadata": {
      "needs_background": "light"
     },
     "output_type": "display_data"
    }
   ],
   "source": [
    "import matplotlib.pyplot as plt\n",
    "\n",
    "plt.figure(figsize = (8,6))\n",
    "plt.scatter(df_nasdaq[\"money_supply\"],df_nasdaq[\"avg_pre_ratio\"], label = \"NASDAQ 100\")\n",
    "plt.scatter(df_sp500[\"money_supply\"],df_sp500[\"avg_pre_ratio\"], label = \"S&P 500\")\n",
    "plt.ylabel(\"Avg. pe_ratio\")\n",
    "plt.xlabel(\"Printed Money M3 (%) - 2015 == 100%\")\n",
    "plt.ylim((0,100))\n",
    "plt.legend()"
   ]
  },
  {
   "cell_type": "markdown",
   "id": "6c61979a",
   "metadata": {},
   "source": [
    "## Average pe ratio vs money supply without 2008 crash"
   ]
  },
  {
   "cell_type": "code",
   "execution_count": 84,
   "id": "0a3d3546",
   "metadata": {},
   "outputs": [
    {
     "data": {
      "text/plain": [
       "<matplotlib.legend.Legend at 0x7f8ce1782da0>"
      ]
     },
     "execution_count": 84,
     "metadata": {},
     "output_type": "execute_result"
    },
    {
     "data": {
      "image/png": "[encoded data removed]",
      "text/plain": [
       "<Figure size 576x432 with 1 Axes>"
      ]
     },
     "metadata": {
      "needs_background": "light"
     },
     "output_type": "display_data"
    }
   ],
   "source": [
    "import matplotlib.pyplot as plt\n",
    "\n",
    "df_nasdaq_v2 = df_nasdaq[df_nasdaq[\"year\"].isin([2006, 2007,2008,2009,2010,2011]) == False]\n",
    "\n",
    "df_sp500_v2 = df_sp500[df_sp500[\"year\"].isin([2006, 2007,2008,2009,2010,2011]) == False]\n",
    "\n",
    "plt.figure(figsize = (8,6))\n",
    "plt.scatter(df_nasdaq_v2[\"money_supply\"],df_nasdaq_v2[\"avg_pre_ratio\"], label = \"NASDAQ 100\")\n",
    "plt.scatter(df_sp500_v2[\"money_supply\"],df_sp500_v2[\"avg_pre_ratio\"], label = \"S&P 500\")\n",
    "plt.ylabel(\"Avg. pe_ratio\")\n",
    "plt.xlabel(\"Printed Money M3 (%) - 2015 == 100%\")\n",
    "plt.ylim((0,100))\n",
    "plt.legend()"
   ]
  },
  {
   "cell_type": "code",
   "execution_count": 74,
   "id": "8c2d95e3",
   "metadata": {},
   "outputs": [
    {
     "data": {
      "text/plain": [
       "array([[ 1.        , -0.15033428],\n",
       "       [-0.15033428,  1.        ]])"
      ]
     },
     "execution_count": 74,
     "metadata": {},
     "output_type": "execute_result"
    }
   ],
   "source": [
    "np.corrcoef(df_nasdaq_v2[\"money_supply\"].values,df_nasdaq_v2[\"avg_pre_ratio\"])"
   ]
  },
  {
   "cell_type": "code",
   "execution_count": 75,
   "id": "2f7fdd2d",
   "metadata": {},
   "outputs": [
    {
     "data": {
      "text/plain": [
       "array([[1.        , 0.26499834],\n",
       "       [0.26499834, 1.        ]])"
      ]
     },
     "execution_count": 75,
     "metadata": {},
     "output_type": "execute_result"
    }
   ],
   "source": [
    "np.corrcoef(df_sp500_v2[\"money_supply\"].values,df_sp500_v2[\"avg_pre_ratio\"])"
   ]
  },
  {
   "cell_type": "markdown",
   "id": "9ccea02e",
   "metadata": {},
   "source": [
    "## S&P 500 Index value vs. money supply"
   ]
  },
  {
   "cell_type": "code",
   "execution_count": 83,
   "id": "232ceb7e",
   "metadata": {},
   "outputs": [
    {
     "data": {
      "text/plain": [
       "<matplotlib.legend.Legend at 0x7f8cb6a10ef0>"
      ]
     },
     "execution_count": 83,
     "metadata": {},
     "output_type": "execute_result"
    },
    {
     "data": {
      "image/png": "[encoded data removed]",
      "text/plain": [
       "<Figure size 576x432 with 1 Axes>"
      ]
     },
     "metadata": {
      "needs_background": "light"
     },
     "output_type": "display_data"
    }
   ],
   "source": [
    "import matplotlib.pyplot as plt\n",
    "\n",
    "df_SP500_index = df[df[\"symbol\"].str.contains(\"SPGI\")]\n",
    "\n",
    "plt.figure(figsize = (8,6))\n",
    "plt.scatter(df_SP500_index[\"money_supply\"],df_SP500_index[\"closing_price\"], label = \"S&P 500\")\n",
    "plt.ylabel(\"Closing Price (USD)\")\n",
    "plt.xlabel(\"Printed Money M3 (%) - 2015 == 100%\")\n",
    "plt.legend()"
   ]
  },
  {
   "cell_type": "code",
   "execution_count": 80,
   "id": "dcc759a5",
   "metadata": {},
   "outputs": [
    {
     "data": {
      "text/plain": [
       "array([[1.        , 0.80549718],\n",
       "       [0.80549718, 1.        ]])"
      ]
     },
     "execution_count": 80,
     "metadata": {},
     "output_type": "execute_result"
    }
   ],
   "source": [
    "np.corrcoef(df_SP500_index[\"money_supply\"].values,df_SP500_index[\"closing_price\"])"
   ]
  }
 ],
 "metadata": {
  "kernelspec": {
   "display_name": "Python 3 (ipykernel)",
   "language": "python",
   "name": "python3"
  },
  "language_info": {
   "codemirror_mode": {
    "name": "ipython",
    "version": 3
   },
   "file_extension": ".py",
   "mimetype": "text/x-python",
   "name": "python",
   "nbconvert_exporter": "python",
   "pygments_lexer": "ipython3",
   "version": "3.7.0"
  }
 },
 "nbformat": 4,
 "nbformat_minor": 5
}
