{
 "cells": [
  {
   "cell_type": "code",
   "execution_count": 33,
   "id": "8801e767",
   "metadata": {},
   "outputs": [],
   "source": [
    "from yahoo_fin import stock_info as si\n",
    "import pandas as pd\n",
    "import numpy as np\n",
    "from typing import List\n",
    "import yfinance as yf\n",
    "import re\n",
    "from io import BytesIO, StringIO\n",
    "import boto3"
   ]
  },
  {
   "cell_type": "markdown",
   "id": "fc49458e",
   "metadata": {},
   "source": [
    "# 1. Ticker Symbols from pytickersymbols\n"
   ]
  },
  {
   "cell_type": "markdown",
   "id": "3364efcf",
   "metadata": {},
   "source": [
    "python project: https://pypi.org/project/pytickersymbols/"
   ]
  },
  {
   "cell_type": "code",
   "execution_count": null,
   "id": "62a0aa61",
   "metadata": {},
   "outputs": [],
   "source": [
    "def create_constant_ticker_df():\n",
    "    constant_tickers = [\n",
    "        {\"symbol\": \"ETH-USD\", \"name\": \"Ethereum USD\", \"country\": None, \"indices\": None},\n",
    "        {\"symbol\": \"BTC-USD\", \"name\": \"Bitcoin USD\", \"country\": None, \"indices\": None},\n",
    "        {\"symbol\": \"^GSPC\", \"name\": \"S&P 500 USD\", \"country\": None, \"indices\": None},\n",
    "        {\"symbol\": \"FEZ\", \"name\": \"SPDR EURO STOXX 50 ETF USD\", \"country\": None, \"indices\": None},\n",
    "        {\"symbol\": \"GC=F\", \"name\": \"Gold USD\", \"country\": None, \"indices\": None},\n",
    "        {\"symbol\": \"SI=F\", \"name\": \"Silver USD\", \"country\": None, \"indices\": None},\n",
    "        {\"symbol\": \"EURUSD=X\", \"name\": \"EUR USD\", \"country\": None, \"indices\": None},\n",
    "        {\"symbol\": \"NOKUSD=X\", \"name\": \"Norwegian Crowns USD\", \"country\": None, \"indices\": None},\n",
    "        {\"symbol\": \"SEKUSD=X\", \"name\": \"Scwedish Crowns USD\", \"country\": None, \"indices\": None}\n",
    "    ]\n",
    "\n",
    "    dfp_constant_tickers = pd.DataFrame(constant_tickers)\n",
    "    return dfp_constant_tickers"
   ]
  },
  {
   "cell_type": "code",
   "execution_count": 163,
   "id": "a773a6d4",
   "metadata": {},
   "outputs": [],
   "source": [
    "from pytickersymbols import PyTickerSymbols\n",
    "\n",
    "stock_ticker_symbols = PyTickerSymbols()\n",
    "\n",
    "smi_tickers = list(stock_ticker_symbols.get_stocks_by_index('SMI'))\n",
    "dfp_tickers_smi = pd.DataFrame(smi_tickers)\n",
    "\n",
    "sp100_tickers = list(stock_ticker_symbols.get_stocks_by_index('S&P 500'))\n",
    "dfp_tickers_sp100 = pd.DataFrame(sp100_tickers)\n",
    "\n",
    "nasdaq100_tickers = list(stock_ticker_symbols.get_stocks_by_index('NASDAQ 100'))\n",
    "dfp_tickers_nasdaq100 = pd.DataFrame(nasdaq100_tickers)\n",
    "\n",
    "dfp_tickers = pd.concat([dfp_tickers_smi,\n",
    "                         dfp_tickers_sp100,\n",
    "                         dfp_tickers_nasdaq100])\n",
    "dfp_tickers = dfp_tickers[dfp_tickers[\"symbol\"].isnull()==False]\n",
    "dfp_tickers = dfp_tickers.drop_duplicates([\"symbol\"])\n",
    "cols = [\n",
    "    \"symbol\",\n",
    "    \"name\",\n",
    "    \"country\",\n",
    "    \"indices\"\n",
    "]\n",
    "dfp_tickers=dfp_tickers[cols]\n",
    "\n",
    "dfp_tickers[\"indices\"] = dfp_tickers[\"indices\"].apply(lambda x: \",\".join(x))"
   ]
  },
  {
   "cell_type": "code",
   "execution_count": 166,
   "id": "1c6b8eb5",
   "metadata": {},
   "outputs": [
    {
     "data": {
      "text/plain": [
       "(520, 4)"
      ]
     },
     "execution_count": 166,
     "metadata": {},
     "output_type": "execute_result"
    }
   ],
   "source": [
    "dfp_tickers.shape"
   ]
  },
  {
   "cell_type": "code",
   "execution_count": 167,
   "id": "fcf26d8b",
   "metadata": {},
   "outputs": [
    {
     "data": {
      "text/html": [
       "<div>\n",
       "<style scoped>\n",
       "    .dataframe tbody tr th:only-of-type {\n",
       "        vertical-align: middle;\n",
       "    }\n",
       "\n",
       "    .dataframe tbody tr th {\n",
       "        vertical-align: top;\n",
       "    }\n",
       "\n",
       "    .dataframe thead th {\n",
       "        text-align: right;\n",
       "    }\n",
       "</style>\n",
       "<table border=\"1\" class=\"dataframe\">\n",
       "  <thead>\n",
       "    <tr style=\"text-align: right;\">\n",
       "      <th></th>\n",
       "      <th>symbol</th>\n",
       "      <th>name</th>\n",
       "      <th>country</th>\n",
       "      <th>indices</th>\n",
       "    </tr>\n",
       "  </thead>\n",
       "  <tbody>\n",
       "    <tr>\n",
       "      <th>0</th>\n",
       "      <td>LIN</td>\n",
       "      <td>Linde PLC</td>\n",
       "      <td>United Kingdom</td>\n",
       "      <td>DAX,EURO STOXX 50,S&amp;P 100,S&amp;P 500</td>\n",
       "    </tr>\n",
       "    <tr>\n",
       "      <th>1</th>\n",
       "      <td>CCL</td>\n",
       "      <td>Carnival Corporation</td>\n",
       "      <td>United Kingdom</td>\n",
       "      <td>S&amp;P 500</td>\n",
       "    </tr>\n",
       "    <tr>\n",
       "      <th>2</th>\n",
       "      <td>SSE</td>\n",
       "      <td>STERIS PLC</td>\n",
       "      <td>United Kingdom</td>\n",
       "      <td>S&amp;P 500</td>\n",
       "    </tr>\n",
       "    <tr>\n",
       "      <th>3</th>\n",
       "      <td>MMM</td>\n",
       "      <td>3M Company</td>\n",
       "      <td>United States</td>\n",
       "      <td>DOW JONES,S&amp;P 100,S&amp;P 500</td>\n",
       "    </tr>\n",
       "    <tr>\n",
       "      <th>4</th>\n",
       "      <td>AXP</td>\n",
       "      <td>American Express Company</td>\n",
       "      <td>United States</td>\n",
       "      <td>DOW JONES,S&amp;P 100,S&amp;P 500</td>\n",
       "    </tr>\n",
       "  </tbody>\n",
       "</table>\n",
       "</div>"
      ],
      "text/plain": [
       "  symbol                      name         country  \\\n",
       "0    LIN                 Linde PLC  United Kingdom   \n",
       "1    CCL      Carnival Corporation  United Kingdom   \n",
       "2    SSE                STERIS PLC  United Kingdom   \n",
       "3    MMM                3M Company   United States   \n",
       "4    AXP  American Express Company   United States   \n",
       "\n",
       "                             indices  \n",
       "0  DAX,EURO STOXX 50,S&P 100,S&P 500  \n",
       "1                            S&P 500  \n",
       "2                            S&P 500  \n",
       "3          DOW JONES,S&P 100,S&P 500  \n",
       "4          DOW JONES,S&P 100,S&P 500  "
      ]
     },
     "execution_count": 167,
     "metadata": {},
     "output_type": "execute_result"
    }
   ],
   "source": [
    "dfp_tickers.head(5)"
   ]
  },
  {
   "cell_type": "code",
   "execution_count": 168,
   "id": "01516c96",
   "metadata": {},
   "outputs": [],
   "source": [
    "tickers = list(dfp_tickers[\"symbol\"].unique())"
   ]
  },
  {
   "cell_type": "code",
   "execution_count": 169,
   "id": "fc2e218d",
   "metadata": {},
   "outputs": [
    {
     "data": {
      "text/plain": [
       "520"
      ]
     },
     "execution_count": 169,
     "metadata": {},
     "output_type": "execute_result"
    }
   ],
   "source": [
    "len(tickers)"
   ]
  },
  {
   "cell_type": "markdown",
   "id": "1e88e703",
   "metadata": {},
   "source": [
    "# 2. Stock Price Data from yfinance"
   ]
  },
  {
   "cell_type": "code",
   "execution_count": 181,
   "id": "b0edca6e",
   "metadata": {},
   "outputs": [],
   "source": [
    "def get_all_stocks_data(tickers: List[str], start_date: str, end_date: str) -> pd.DataFrame:\n",
    "    \"\"\"\n",
    "    Downloads price and volume data from yahoo finance for a list of ticker symbols for a time\n",
    "    period specified by a start date and end date\n",
    "    :param tickers: List[str], ticker symbols for which data is downloaded form yahoo finance\n",
    "    :param start_date: str, format: %Y-%m-%d, the start date\n",
    "    :param end_date: str, format: %Y-%m-%d, the end date\n",
    "    :return:\n",
    "    \"\"\"\n",
    "    n_tickers = len(tickers)\n",
    "    iterations = 2\n",
    "    step_size = int(n_tickers / iterations-1)\n",
    "\n",
    "    df_list = []\n",
    "    for k in range(0, iterations):\n",
    "        print(k, \"of\", iterations)\n",
    "        tickers_tmp = tickers[k:k + step_size]\n",
    "        if len(tickers_tmp) > 0:\n",
    "            sep = \" \"\n",
    "            tickers_string = sep.join(tickers_tmp)\n",
    "            df_tmp = yf.download(tickers_string, \n",
    "                                 start=start_date, \n",
    "                                 end=end_date, \n",
    "                                 group_by='ticker', \n",
    "                                 interval=\"1d\")\n",
    "            df_list.append(df_tmp)\n",
    "\n",
    "    df_time_series = pd.concat(df_list)\n",
    "\n",
    "    df_list = []\n",
    "    for ticker in list(df_time_series.columns.levels[0]):\n",
    "        df_tmp = df_time_series[ticker]\n",
    "        df_tmp[\"symbol\"] = ticker\n",
    "        df_tmp = df_tmp[[\"symbol\", \"Close\", \"Volume\"]]\n",
    "        df_list.append(df_tmp)\n",
    "\n",
    "    df_ts = pd.concat(df_list)\n",
    "    df_ts = df_ts.reset_index()\n",
    "    df_ts[\"Date\"] = df_ts[\"Date\"].astype(str)\n",
    "    df_ts[\"year\"] = df_ts[\"Date\"].str.split(\"-\", expand=True)[0].astype(int)\n",
    "    df_ts[\"month\"] = df_ts[\"Date\"].str.split(\"-\", expand=True)[1].astype(int)\n",
    "    df_ts[\"day\"] = df_ts[\"Date\"].str.split(\"-\", expand=True)[2].astype(int)\n",
    "    df_ts = df_ts.drop(columns= [\"Date\"])\n",
    "    df_ts = df_ts.dropna()\n",
    "\n",
    "    renamed_columns = {\n",
    "        \"Close\": \"closing_price\",\n",
    "        \"Volume\": \"volume\"\n",
    "    }\n",
    "\n",
    "    df_ts = df_ts.rename(columns=renamed_columns)\n",
    "    return df_ts"
   ]
  },
  {
   "cell_type": "code",
   "execution_count": 182,
   "id": "175d7844",
   "metadata": {},
   "outputs": [
    {
     "name": "stdout",
     "output_type": "stream",
     "text": [
      "[*********************100%***********************]  1 of 1 completed\n"
     ]
    }
   ],
   "source": [
    "df_tmp = yf.download(\"MSFT\", start=\"2021-01-01\", \n",
    "                     end = \"2021-03-01\", group_by='ticker', interval=\"1d\")"
   ]
  },
  {
   "cell_type": "code",
   "execution_count": 183,
   "id": "f6c1fb61",
   "metadata": {},
   "outputs": [
    {
     "name": "stdout",
     "output_type": "stream",
     "text": [
      "0 of 2\n",
      "[*********************100%***********************]  259 of 259 completed\n",
      "\n",
      "3 Failed downloads:\n",
      "- COG: No data found, symbol may be delisted\n",
      "- SSE: None\n",
      "- RTN: No data found, symbol may be delisted\n",
      "1 of 2\n",
      "[*********************100%***********************]  259 of 259 completed\n",
      "\n",
      "3 Failed downloads:\n",
      "- COG: No data found, symbol may be delisted\n",
      "- SSE: None\n",
      "- RTN: No data found, symbol may be delisted\n"
     ]
    },
    {
     "name": "stderr",
     "output_type": "stream",
     "text": [
      "/Users/ralf/opt/anaconda3/envs/nb/lib/python3.7/site-packages/ipykernel_launcher.py:33: SettingWithCopyWarning: \n",
      "A value is trying to be set on a copy of a slice from a DataFrame.\n",
      "Try using .loc[row_indexer,col_indexer] = value instead\n",
      "\n",
      "See the caveats in the documentation: https://pandas.pydata.org/pandas-docs/stable/user_guide/indexing.html#returning-a-view-versus-a-copy\n"
     ]
    },
    {
     "name": "stdout",
     "output_type": "stream",
     "text": [
      "time for downloading 3 months of stock data 81.17370510101318\n"
     ]
    }
   ],
   "source": [
    "import time\n",
    "start = time.time()\n",
    "df2 = get_all_stocks_data(tickers= tickers, start_date=\"2020-01-01\", end_date = \"2020-04-01\")\n",
    "end = time.time()\n",
    "print(\"time for downloading 3 months of stock data\",end-start)"
   ]
  },
  {
   "cell_type": "code",
   "execution_count": 184,
   "id": "98f7114a",
   "metadata": {},
   "outputs": [
    {
     "data": {
      "text/plain": [
       "(32256, 6)"
      ]
     },
     "execution_count": 184,
     "metadata": {},
     "output_type": "execute_result"
    }
   ],
   "source": [
    "df2.shape"
   ]
  },
  {
   "cell_type": "code",
   "execution_count": 185,
   "id": "cb5fd3cb",
   "metadata": {},
   "outputs": [
    {
     "data": {
      "text/html": [
       "<div>\n",
       "<style scoped>\n",
       "    .dataframe tbody tr th:only-of-type {\n",
       "        vertical-align: middle;\n",
       "    }\n",
       "\n",
       "    .dataframe tbody tr th {\n",
       "        vertical-align: top;\n",
       "    }\n",
       "\n",
       "    .dataframe thead th {\n",
       "        text-align: right;\n",
       "    }\n",
       "</style>\n",
       "<table border=\"1\" class=\"dataframe\">\n",
       "  <thead>\n",
       "    <tr style=\"text-align: right;\">\n",
       "      <th></th>\n",
       "      <th>symbol</th>\n",
       "      <th>closing_price</th>\n",
       "      <th>volume</th>\n",
       "      <th>year</th>\n",
       "      <th>month</th>\n",
       "      <th>day</th>\n",
       "    </tr>\n",
       "  </thead>\n",
       "  <tbody>\n",
       "    <tr>\n",
       "      <th>0</th>\n",
       "      <td>A</td>\n",
       "      <td>85.309998</td>\n",
       "      <td>1176200.0</td>\n",
       "      <td>2019</td>\n",
       "      <td>12</td>\n",
       "      <td>31</td>\n",
       "    </tr>\n",
       "    <tr>\n",
       "      <th>1</th>\n",
       "      <td>A</td>\n",
       "      <td>85.949997</td>\n",
       "      <td>1410500.0</td>\n",
       "      <td>2020</td>\n",
       "      <td>1</td>\n",
       "      <td>2</td>\n",
       "    </tr>\n",
       "    <tr>\n",
       "      <th>2</th>\n",
       "      <td>A</td>\n",
       "      <td>84.570000</td>\n",
       "      <td>1118300.0</td>\n",
       "      <td>2020</td>\n",
       "      <td>1</td>\n",
       "      <td>3</td>\n",
       "    </tr>\n",
       "    <tr>\n",
       "      <th>3</th>\n",
       "      <td>A</td>\n",
       "      <td>84.820000</td>\n",
       "      <td>1993200.0</td>\n",
       "      <td>2020</td>\n",
       "      <td>1</td>\n",
       "      <td>6</td>\n",
       "    </tr>\n",
       "    <tr>\n",
       "      <th>4</th>\n",
       "      <td>A</td>\n",
       "      <td>85.080002</td>\n",
       "      <td>1684700.0</td>\n",
       "      <td>2020</td>\n",
       "      <td>1</td>\n",
       "      <td>7</td>\n",
       "    </tr>\n",
       "  </tbody>\n",
       "</table>\n",
       "</div>"
      ],
      "text/plain": [
       "  symbol  closing_price     volume  year  month  day\n",
       "0      A      85.309998  1176200.0  2019     12   31\n",
       "1      A      85.949997  1410500.0  2020      1    2\n",
       "2      A      84.570000  1118300.0  2020      1    3\n",
       "3      A      84.820000  1993200.0  2020      1    6\n",
       "4      A      85.080002  1684700.0  2020      1    7"
      ]
     },
     "execution_count": 185,
     "metadata": {},
     "output_type": "execute_result"
    }
   ],
   "source": [
    "df2.head(5)"
   ]
  },
  {
   "cell_type": "code",
   "execution_count": 186,
   "id": "0831d008",
   "metadata": {},
   "outputs": [
    {
     "data": {
      "text/plain": [
       "symbol            object\n",
       "closing_price    float64\n",
       "volume           float64\n",
       "year               int64\n",
       "month              int64\n",
       "day                int64\n",
       "dtype: object"
      ]
     },
     "execution_count": 186,
     "metadata": {},
     "output_type": "execute_result"
    }
   ],
   "source": [
    "df2.dtypes"
   ]
  },
  {
   "cell_type": "markdown",
   "id": "fa02d85e",
   "metadata": {},
   "source": [
    "# 3. Balance Sheet Data From Quandl"
   ]
  },
  {
   "cell_type": "code",
   "execution_count": 14,
   "id": "f2ee8724",
   "metadata": {},
   "outputs": [],
   "source": [
    "path_quandl = \"/Users/ralf/Documents/6000_stocks/US_CORE_FINANCIAL_DATA_FULL_HISTORY/SHARADAR_SF1_017f04a0d2ef7cc409f920be72167ada.csv\""
   ]
  },
  {
   "cell_type": "code",
   "execution_count": 15,
   "id": "5c41dfd1",
   "metadata": {},
   "outputs": [],
   "source": [
    "df_quandl = pd.read_csv(path_quandl)\n",
    "\n",
    "cols = ['ticker',\n",
    "        'dimension',\n",
    "'reportperiod',\n",
    "'liabilities',\n",
    "'debt',\n",
    "'equity',\n",
    "'assets',\n",
    "'marketcap',\n",
    "'netinc',\n",
    "'ebit',\n",
    "'shareswa',\n",
    "'shareswadil']\n",
    "\n",
    "df_quandl = df_quandl[cols]\n",
    "# convert from USD to billion USD\n",
    "df_quandl[\"liabilities\"] = df_quandl[\"liabilities\"]/1e+09\n",
    "df_quandl[\"debt\"] = df_quandl[\"debt\"]/1e+09\n",
    "df_quandl[\"equity\"] = df_quandl[\"equity\"]/1e+09\n",
    "df_quandl[\"assets\"] = df_quandl[\"assets\"]/1e+09\n",
    "df_quandl[\"marketcap\"] = df_quandl[\"marketcap\"]/1e+09\n",
    "df_quandl[\"netinc\"] = df_quandl[\"netinc\"]/1e+09\n",
    "df_quandl[\"ebit\"] = df_quandl[\"ebit\"]/1e+09\n",
    "df_quandl[\"shareswa\"] = df_quandl[\"shareswa\"]/1e+09\n",
    "df_quandl[\"shareswadil\"] = df_quandl[\"shareswadil\"]/1e+09\n",
    "# calculate additional indicators\n",
    "df_quandl[\"earning_yield\"] = df_quandl[\"netinc\"]/df_quandl[\"marketcap\"]\n",
    "df_quandl[\"rota\"] = df_quandl[\"netinc\"]/df_quandl[\"assets\"]\n",
    "# Add columns for year, month and day\n",
    "df_quandl[\"year\"] = df_quandl[\"reportperiod\"].str.split(\"-\", expand=True)[0].astype(int)\n",
    "df_quandl[\"month\"] = df_quandl[\"reportperiod\"].str.split(\"-\", expand=True)[1].astype(int)\n",
    "df_quandl[\"day\"] = df_quandl[\"reportperiod\"].str.split(\"-\", expand=True)[2].astype(int)\n"
   ]
  },
  {
   "cell_type": "code",
   "execution_count": 16,
   "id": "ade1088c",
   "metadata": {},
   "outputs": [
    {
     "data": {
      "text/plain": [
       "(2647073, 17)"
      ]
     },
     "execution_count": 16,
     "metadata": {},
     "output_type": "execute_result"
    }
   ],
   "source": [
    "df_quandl.shape"
   ]
  },
  {
   "cell_type": "code",
   "execution_count": 17,
   "id": "0791bcba",
   "metadata": {},
   "outputs": [
    {
     "data": {
      "text/plain": [
       "ticker            object\n",
       "dimension         object\n",
       "reportperiod      object\n",
       "liabilities      float64\n",
       "debt             float64\n",
       "equity           float64\n",
       "assets           float64\n",
       "marketcap        float64\n",
       "netinc           float64\n",
       "ebit             float64\n",
       "shareswa         float64\n",
       "shareswadil      float64\n",
       "earning_yield    float64\n",
       "rota             float64\n",
       "year               int64\n",
       "month              int64\n",
       "day                int64\n",
       "dtype: object"
      ]
     },
     "execution_count": 17,
     "metadata": {},
     "output_type": "execute_result"
    }
   ],
   "source": [
    "df_quandl.dtypes"
   ]
  },
  {
   "cell_type": "code",
   "execution_count": 19,
   "id": "f28c95fe",
   "metadata": {},
   "outputs": [
    {
     "data": {
      "text/html": [
       "<div>\n",
       "<style scoped>\n",
       "    .dataframe tbody tr th:only-of-type {\n",
       "        vertical-align: middle;\n",
       "    }\n",
       "\n",
       "    .dataframe tbody tr th {\n",
       "        vertical-align: top;\n",
       "    }\n",
       "\n",
       "    .dataframe thead th {\n",
       "        text-align: right;\n",
       "    }\n",
       "</style>\n",
       "<table border=\"1\" class=\"dataframe\">\n",
       "  <thead>\n",
       "    <tr style=\"text-align: right;\">\n",
       "      <th></th>\n",
       "      <th>ticker</th>\n",
       "      <th>dimension</th>\n",
       "      <th>reportperiod</th>\n",
       "      <th>liabilities</th>\n",
       "      <th>debt</th>\n",
       "      <th>equity</th>\n",
       "      <th>assets</th>\n",
       "      <th>marketcap</th>\n",
       "      <th>netinc</th>\n",
       "      <th>ebit</th>\n",
       "      <th>shareswa</th>\n",
       "      <th>shareswadil</th>\n",
       "      <th>earning_yield</th>\n",
       "      <th>rota</th>\n",
       "      <th>year</th>\n",
       "      <th>month</th>\n",
       "      <th>day</th>\n",
       "    </tr>\n",
       "  </thead>\n",
       "  <tbody>\n",
       "    <tr>\n",
       "      <th>1252751</th>\n",
       "      <td>MSFT</td>\n",
       "      <td>ARQ</td>\n",
       "      <td>1993-12-31</td>\n",
       "      <td>0.740</td>\n",
       "      <td>0.0</td>\n",
       "      <td>3.746</td>\n",
       "      <td>4.486</td>\n",
       "      <td>22.624783</td>\n",
       "      <td>0.289</td>\n",
       "      <td>0.438</td>\n",
       "      <td>9.728</td>\n",
       "      <td>9.728</td>\n",
       "      <td>0.012774</td>\n",
       "      <td>0.064423</td>\n",
       "      <td>1993</td>\n",
       "      <td>12</td>\n",
       "      <td>31</td>\n",
       "    </tr>\n",
       "    <tr>\n",
       "      <th>1252752</th>\n",
       "      <td>MSFT</td>\n",
       "      <td>ARQ</td>\n",
       "      <td>1994-03-31</td>\n",
       "      <td>0.914</td>\n",
       "      <td>0.0</td>\n",
       "      <td>4.012</td>\n",
       "      <td>4.926</td>\n",
       "      <td>26.923138</td>\n",
       "      <td>0.256</td>\n",
       "      <td>0.382</td>\n",
       "      <td>9.728</td>\n",
       "      <td>9.728</td>\n",
       "      <td>0.009509</td>\n",
       "      <td>0.051969</td>\n",
       "      <td>1994</td>\n",
       "      <td>3</td>\n",
       "      <td>31</td>\n",
       "    </tr>\n",
       "    <tr>\n",
       "      <th>1252753</th>\n",
       "      <td>MSFT</td>\n",
       "      <td>ARQ</td>\n",
       "      <td>1994-06-30</td>\n",
       "      <td>0.913</td>\n",
       "      <td>0.0</td>\n",
       "      <td>4.450</td>\n",
       "      <td>5.363</td>\n",
       "      <td>32.789541</td>\n",
       "      <td>0.362</td>\n",
       "      <td>0.540</td>\n",
       "      <td>9.856</td>\n",
       "      <td>9.856</td>\n",
       "      <td>0.011040</td>\n",
       "      <td>0.067500</td>\n",
       "      <td>1994</td>\n",
       "      <td>6</td>\n",
       "      <td>30</td>\n",
       "    </tr>\n",
       "    <tr>\n",
       "      <th>1252754</th>\n",
       "      <td>MSFT</td>\n",
       "      <td>ARQ</td>\n",
       "      <td>1994-09-30</td>\n",
       "      <td>1.207</td>\n",
       "      <td>0.0</td>\n",
       "      <td>4.430</td>\n",
       "      <td>5.637</td>\n",
       "      <td>37.563773</td>\n",
       "      <td>0.316</td>\n",
       "      <td>0.471</td>\n",
       "      <td>9.952</td>\n",
       "      <td>9.952</td>\n",
       "      <td>0.008412</td>\n",
       "      <td>0.056058</td>\n",
       "      <td>1994</td>\n",
       "      <td>9</td>\n",
       "      <td>30</td>\n",
       "    </tr>\n",
       "    <tr>\n",
       "      <th>1252755</th>\n",
       "      <td>MSFT</td>\n",
       "      <td>ARQ</td>\n",
       "      <td>1994-09-30</td>\n",
       "      <td>1.207</td>\n",
       "      <td>0.0</td>\n",
       "      <td>4.430</td>\n",
       "      <td>5.637</td>\n",
       "      <td>37.633659</td>\n",
       "      <td>0.316</td>\n",
       "      <td>0.471</td>\n",
       "      <td>9.952</td>\n",
       "      <td>9.952</td>\n",
       "      <td>0.008397</td>\n",
       "      <td>0.056058</td>\n",
       "      <td>1994</td>\n",
       "      <td>9</td>\n",
       "      <td>30</td>\n",
       "    </tr>\n",
       "  </tbody>\n",
       "</table>\n",
       "</div>"
      ],
      "text/plain": [
       "        ticker dimension reportperiod  liabilities  debt  equity  assets  \\\n",
       "1252751   MSFT       ARQ   1993-12-31        0.740   0.0   3.746   4.486   \n",
       "1252752   MSFT       ARQ   1994-03-31        0.914   0.0   4.012   4.926   \n",
       "1252753   MSFT       ARQ   1994-06-30        0.913   0.0   4.450   5.363   \n",
       "1252754   MSFT       ARQ   1994-09-30        1.207   0.0   4.430   5.637   \n",
       "1252755   MSFT       ARQ   1994-09-30        1.207   0.0   4.430   5.637   \n",
       "\n",
       "         marketcap  netinc   ebit  shareswa  shareswadil  earning_yield  \\\n",
       "1252751  22.624783   0.289  0.438     9.728        9.728       0.012774   \n",
       "1252752  26.923138   0.256  0.382     9.728        9.728       0.009509   \n",
       "1252753  32.789541   0.362  0.540     9.856        9.856       0.011040   \n",
       "1252754  37.563773   0.316  0.471     9.952        9.952       0.008412   \n",
       "1252755  37.633659   0.316  0.471     9.952        9.952       0.008397   \n",
       "\n",
       "             rota  year  month  day  \n",
       "1252751  0.064423  1993     12   31  \n",
       "1252752  0.051969  1994      3   31  \n",
       "1252753  0.067500  1994      6   30  \n",
       "1252754  0.056058  1994      9   30  \n",
       "1252755  0.056058  1994      9   30  "
      ]
     },
     "execution_count": 19,
     "metadata": {},
     "output_type": "execute_result"
    }
   ],
   "source": [
    "df_quandl[df_quandl[\"ticker\"] == \"MSFT\"].head(5)"
   ]
  },
  {
   "cell_type": "markdown",
   "id": "c47725e7",
   "metadata": {},
   "source": [
    "# 4. M2 Money Supply Data"
   ]
  },
  {
   "cell_type": "markdown",
   "id": "58807bb5",
   "metadata": {},
   "source": [
    "Data source: https://stats.oecd.org/"
   ]
  },
  {
   "cell_type": "code",
   "execution_count": 20,
   "id": "1a688f0f",
   "metadata": {},
   "outputs": [],
   "source": [
    "path = \"/Users/ralf/Documents/6000_stocks/MEI_FIN_20012022224609367.csv\"\n",
    "df_m3 = pd.read_csv(path)\n",
    "\n",
    "df_m3[\"year\"] = df_m3[\"TIME\"].str.split(\"-\",expand=True)[0]\n",
    "df_m3[\"quarter\"] = df_m3[\"TIME\"].str.split(\"-\",expand=True)[1]\n",
    "\n",
    "def replace_none(x):\n",
    "    if not x:\n",
    "         return \"full_year\" \n",
    "    else:\n",
    "        return x\n",
    "    \n",
    "df_m3[\"quarter\"] = df_m3[\"quarter\"].apply(replace_none)\n",
    "\n",
    "cols = [\n",
    "    \"TIME\",\n",
    "    \"Value\",\n",
    "    \"Country\",\n",
    "    \"Frequency\"\n",
    "]\n",
    "\n",
    "#df_m3 = df_m3[cols]\n",
    "\n",
    "renamed_columns = {\n",
    "    \"Value\": \"value\",\n",
    "    \"Country\": \"country\",\n",
    "    \"Frequency\": \"frequency\",\n",
    "    \"Time\": \"time\"\n",
    "}\n",
    "\n",
    "\n",
    "df_m3 = df_m3.rename(columns=renamed_columns)"
   ]
  },
  {
   "cell_type": "code",
   "execution_count": 21,
   "id": "b219b8f4",
   "metadata": {},
   "outputs": [
    {
     "data": {
      "text/plain": [
       "(1422, 19)"
      ]
     },
     "execution_count": 21,
     "metadata": {},
     "output_type": "execute_result"
    }
   ],
   "source": [
    "df_m3.shape"
   ]
  },
  {
   "cell_type": "code",
   "execution_count": 23,
   "id": "2a9610b3",
   "metadata": {},
   "outputs": [
    {
     "data": {
      "text/html": [
       "<div>\n",
       "<style scoped>\n",
       "    .dataframe tbody tr th:only-of-type {\n",
       "        vertical-align: middle;\n",
       "    }\n",
       "\n",
       "    .dataframe tbody tr th {\n",
       "        vertical-align: top;\n",
       "    }\n",
       "\n",
       "    .dataframe thead th {\n",
       "        text-align: right;\n",
       "    }\n",
       "</style>\n",
       "<table border=\"1\" class=\"dataframe\">\n",
       "  <thead>\n",
       "    <tr style=\"text-align: right;\">\n",
       "      <th></th>\n",
       "      <th>value</th>\n",
       "      <th>country</th>\n",
       "      <th>frequency</th>\n",
       "      <th>time</th>\n",
       "    </tr>\n",
       "  </thead>\n",
       "  <tbody>\n",
       "    <tr>\n",
       "      <th>0</th>\n",
       "      <td>12.78966</td>\n",
       "      <td>United States</td>\n",
       "      <td>Annual</td>\n",
       "      <td>1980</td>\n",
       "    </tr>\n",
       "    <tr>\n",
       "      <th>1</th>\n",
       "      <td>13.94482</td>\n",
       "      <td>United States</td>\n",
       "      <td>Annual</td>\n",
       "      <td>1981</td>\n",
       "    </tr>\n",
       "    <tr>\n",
       "      <th>2</th>\n",
       "      <td>15.20398</td>\n",
       "      <td>United States</td>\n",
       "      <td>Annual</td>\n",
       "      <td>1982</td>\n",
       "    </tr>\n",
       "    <tr>\n",
       "      <th>3</th>\n",
       "      <td>17.06026</td>\n",
       "      <td>United States</td>\n",
       "      <td>Annual</td>\n",
       "      <td>1983</td>\n",
       "    </tr>\n",
       "    <tr>\n",
       "      <th>4</th>\n",
       "      <td>18.42620</td>\n",
       "      <td>United States</td>\n",
       "      <td>Annual</td>\n",
       "      <td>1984</td>\n",
       "    </tr>\n",
       "  </tbody>\n",
       "</table>\n",
       "</div>"
      ],
      "text/plain": [
       "      value        country frequency  time\n",
       "0  12.78966  United States    Annual  1980\n",
       "1  13.94482  United States    Annual  1981\n",
       "2  15.20398  United States    Annual  1982\n",
       "3  17.06026  United States    Annual  1983\n",
       "4  18.42620  United States    Annual  1984"
      ]
     },
     "execution_count": 23,
     "metadata": {},
     "output_type": "execute_result"
    }
   ],
   "source": [
    "df_m3[[\"value\",\"country\",\"frequency\",\"time\"]].head(5)"
   ]
  },
  {
   "cell_type": "code",
   "execution_count": 27,
   "id": "5bc253f8",
   "metadata": {},
   "outputs": [
    {
     "data": {
      "text/plain": [
       "array(['United States', 'Euro area (19 countries)'], dtype=object)"
      ]
     },
     "execution_count": 27,
     "metadata": {},
     "output_type": "execute_result"
    }
   ],
   "source": [
    "df_m3[\"country\"].unique()"
   ]
  },
  {
   "cell_type": "code",
   "execution_count": 31,
   "id": "c4981b02",
   "metadata": {},
   "outputs": [
    {
     "data": {
      "text/plain": [
       "Text(0.5, 0, 'Time (years)')"
      ]
     },
     "execution_count": 31,
     "metadata": {},
     "output_type": "execute_result"
    },
    {
     "data": {
      "image/png": "[encoded data removed]",
      "text/plain": [
       "<Figure size 1080x576 with 1 Axes>"
      ]
     },
     "metadata": {
      "needs_background": "light"
     },
     "output_type": "display_data"
    }
   ],
   "source": [
    "df_tmp = df_m3[df_m3[\"country\"] == 'Euro area (19 countries)']\n",
    "df_tmp = df_tmp[df_tmp[\"frequency\"] == \"Annual\"]\n",
    "\n",
    "import matplotlib.pyplot as plt\n",
    "\n",
    "plt.figure(figsize = (15,8))\n",
    "plt.scatter(df_tmp[\"time\"],df_tmp[\"value\"])\n",
    "plt.ylabel(\"Printed Money M3 (%) - 2015 == 100%\")\n",
    "plt.xlabel(\"Time (years)\")"
   ]
  },
  {
   "cell_type": "code",
   "execution_count": 34,
   "id": "1b8b4633",
   "metadata": {},
   "outputs": [
    {
     "data": {
      "text/plain": [
       "'Sep-2021'"
      ]
     },
     "execution_count": 34,
     "metadata": {},
     "output_type": "execute_result"
    }
   ],
   "source": [
    "np.max(df_m3[\"time\"].values)"
   ]
  }
 ],
 "metadata": {
  "kernelspec": {
   "display_name": "Python 3 (ipykernel)",
   "language": "python",
   "name": "python3"
  },
  "language_info": {
   "codemirror_mode": {
    "name": "ipython",
    "version": 3
   },
   "file_extension": ".py",
   "mimetype": "text/x-python",
   "name": "python",
   "nbconvert_exporter": "python",
   "pygments_lexer": "ipython3",
   "version": "3.7.0"
  }
 },
 "nbformat": 4,
 "nbformat_minor": 5
}
