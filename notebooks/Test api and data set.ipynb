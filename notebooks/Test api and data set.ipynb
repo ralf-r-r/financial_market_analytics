{
 "cells": [
  {
   "cell_type": "code",
   "execution_count": 12,
   "id": "8801e767",
   "metadata": {},
   "outputs": [],
   "source": [
    "from yahoo_fin import stock_info as si\n",
    "import pandas as pd\n",
    "from typing import List\n",
    "import yfinance as yf\n",
    "import re\n",
    "\n",
    "\n",
    "from io import BytesIO, StringIO\n",
    "import boto3"
   ]
  },
  {
   "cell_type": "code",
   "execution_count": 13,
   "id": "f79c1981",
   "metadata": {},
   "outputs": [],
   "source": [
    "def create_constant_ticker_df():\n",
    "    constant_tickers = [\n",
    "        {\"symbol\": \"ETH-USD\", \"name\": \"Ethereum USD\", \"country\": None, \"indices\": None},\n",
    "        {\"symbol\": \"BTC-USD\", \"name\": \"Bitcoin USD\", \"country\": None, \"indices\": None},\n",
    "        {\"symbol\": \"^GSPC\", \"name\": \"S&P 500 USD\", \"country\": None, \"indices\": None},\n",
    "        {\"symbol\": \"FEZ\", \"name\": \"SPDR EURO STOXX 50 ETF USD\", \"country\": None, \"indices\": None},\n",
    "        {\"symbol\": \"GC=F\", \"name\": \"Gold USD\", \"country\": None, \"indices\": None},\n",
    "        {\"symbol\": \"SI=F\", \"name\": \"Silver USD\", \"country\": None, \"indices\": None},\n",
    "        {\"symbol\": \"EURUSD=X\", \"name\": \"EUR USD\", \"country\": None, \"indices\": None},\n",
    "        {\"symbol\": \"NOKUSD=X\", \"name\": \"Norwegian Crowns USD\", \"country\": None, \"indices\": None},\n",
    "        {\"symbol\": \"SEKUSD=X\", \"name\": \"Scwedish Crowns USD\", \"country\": None, \"indices\": None}\n",
    "    ]\n",
    "\n",
    "    dfp_constant_tickers = pd.DataFrame(constant_tickers)\n",
    "    return dfp_constant_tickers"
   ]
  },
  {
   "cell_type": "code",
   "execution_count": 14,
   "id": "0f34b884",
   "metadata": {},
   "outputs": [],
   "source": [
    "def upload_df_to_S3(df: pd.DataFrame,\n",
    "                    aws_access_key_id:str,\n",
    "                    aws_secret_access_key:str,\n",
    "                    bucket: str,\n",
    "                    region:str,\n",
    "                    key: str):\n",
    "\n",
    "    #csv_buffer = BytesIO()\n",
    "    csv_buffer = StringIO()\n",
    "    df.to_csv(csv_buffer, header=True, index=False)\n",
    "    csv_buffer.seek(0)\n",
    "\n",
    "    s3_client = boto3.client('s3',\n",
    "                             aws_access_key_id=aws_access_key_id,\n",
    "                             aws_secret_access_key=aws_secret_access_key,\n",
    "                             region_name=region)\n",
    "\n",
    "    #s3_client.upload_fileobj(csv_buffer, bucket, key)\n",
    "    s3_client.put_object(Bucket=bucket, Body=csv_buffer.getvalue(), Key=key)\n",
    "    \n",
    "    return None"
   ]
  },
  {
   "cell_type": "code",
   "execution_count": 15,
   "id": "ff3fcde0",
   "metadata": {},
   "outputs": [],
   "source": [
    "df = create_constant_ticker_df()"
   ]
  },
  {
   "cell_type": "code",
   "execution_count": 17,
   "id": "f732e25b",
   "metadata": {},
   "outputs": [],
   "source": [
    "s3_key_tickers = \"tickers/test.csv\"\n",
    "#s3_bucket='s3://rrrfinance/'\n",
    "s3_bucket = \"rrrfinance\"\n",
    "s3_region='eu-central-1'\n",
    "\n",
    "upload_df_to_S3(df=df,\n",
    "                aws_access_key_id= \"x\",\n",
    "                aws_secret_access_key=\"x\",\n",
    "                region=s3_region,\n",
    "                bucket=s3_bucket,\n",
    "                key=s3_key_tickers)"
   ]
  },
  {
   "cell_type": "markdown",
   "id": "fc49458e",
   "metadata": {},
   "source": [
    "# 1. Ticker Symbols from pytickersymbols\n"
   ]
  },
  {
   "cell_type": "markdown",
   "id": "3364efcf",
   "metadata": {},
   "source": [
    "python project: https://pypi.org/project/pytickersymbols/"
   ]
  },
  {
   "cell_type": "code",
   "execution_count": 163,
   "id": "a773a6d4",
   "metadata": {},
   "outputs": [],
   "source": [
    "from pytickersymbols import PyTickerSymbols\n",
    "\n",
    "stock_ticker_symbols = PyTickerSymbols()\n",
    "\n",
    "smi_tickers = list(stock_ticker_symbols.get_stocks_by_index('SMI'))\n",
    "dfp_tickers_smi = pd.DataFrame(smi_tickers)\n",
    "\n",
    "sp100_tickers = list(stock_ticker_symbols.get_stocks_by_index('S&P 500'))\n",
    "dfp_tickers_sp100 = pd.DataFrame(sp100_tickers)\n",
    "\n",
    "nasdaq100_tickers = list(stock_ticker_symbols.get_stocks_by_index('NASDAQ 100'))\n",
    "dfp_tickers_nasdaq100 = pd.DataFrame(nasdaq100_tickers)\n",
    "\n",
    "dfp_tickers = pd.concat([dfp_tickers_smi,\n",
    "                         dfp_tickers_sp100,\n",
    "                         dfp_tickers_nasdaq100])\n",
    "dfp_tickers = dfp_tickers[dfp_tickers[\"symbol\"].isnull()==False]\n",
    "dfp_tickers = dfp_tickers.drop_duplicates([\"symbol\"])\n",
    "cols = [\n",
    "    \"symbol\",\n",
    "    \"name\",\n",
    "    \"country\",\n",
    "    \"indices\"\n",
    "]\n",
    "dfp_tickers=dfp_tickers[cols]\n",
    "\n",
    "dfp_tickers[\"indices\"] = dfp_tickers[\"indices\"].apply(lambda x: \",\".join(x))"
   ]
  },
  {
   "cell_type": "code",
   "execution_count": 166,
   "id": "1c6b8eb5",
   "metadata": {},
   "outputs": [
    {
     "data": {
      "text/plain": [
       "(520, 4)"
      ]
     },
     "execution_count": 166,
     "metadata": {},
     "output_type": "execute_result"
    }
   ],
   "source": [
    "dfp_tickers.shape"
   ]
  },
  {
   "cell_type": "code",
   "execution_count": 167,
   "id": "fcf26d8b",
   "metadata": {},
   "outputs": [
    {
     "data": {
      "text/html": [
       "<div>\n",
       "<style scoped>\n",
       "    .dataframe tbody tr th:only-of-type {\n",
       "        vertical-align: middle;\n",
       "    }\n",
       "\n",
       "    .dataframe tbody tr th {\n",
       "        vertical-align: top;\n",
       "    }\n",
       "\n",
       "    .dataframe thead th {\n",
       "        text-align: right;\n",
       "    }\n",
       "</style>\n",
       "<table border=\"1\" class=\"dataframe\">\n",
       "  <thead>\n",
       "    <tr style=\"text-align: right;\">\n",
       "      <th></th>\n",
       "      <th>symbol</th>\n",
       "      <th>name</th>\n",
       "      <th>country</th>\n",
       "      <th>indices</th>\n",
       "    </tr>\n",
       "  </thead>\n",
       "  <tbody>\n",
       "    <tr>\n",
       "      <th>0</th>\n",
       "      <td>LIN</td>\n",
       "      <td>Linde PLC</td>\n",
       "      <td>United Kingdom</td>\n",
       "      <td>DAX,EURO STOXX 50,S&amp;P 100,S&amp;P 500</td>\n",
       "    </tr>\n",
       "    <tr>\n",
       "      <th>1</th>\n",
       "      <td>CCL</td>\n",
       "      <td>Carnival Corporation</td>\n",
       "      <td>United Kingdom</td>\n",
       "      <td>S&amp;P 500</td>\n",
       "    </tr>\n",
       "    <tr>\n",
       "      <th>2</th>\n",
       "      <td>SSE</td>\n",
       "      <td>STERIS PLC</td>\n",
       "      <td>United Kingdom</td>\n",
       "      <td>S&amp;P 500</td>\n",
       "    </tr>\n",
       "    <tr>\n",
       "      <th>3</th>\n",
       "      <td>MMM</td>\n",
       "      <td>3M Company</td>\n",
       "      <td>United States</td>\n",
       "      <td>DOW JONES,S&amp;P 100,S&amp;P 500</td>\n",
       "    </tr>\n",
       "    <tr>\n",
       "      <th>4</th>\n",
       "      <td>AXP</td>\n",
       "      <td>American Express Company</td>\n",
       "      <td>United States</td>\n",
       "      <td>DOW JONES,S&amp;P 100,S&amp;P 500</td>\n",
       "    </tr>\n",
       "  </tbody>\n",
       "</table>\n",
       "</div>"
      ],
      "text/plain": [
       "  symbol                      name         country  \\\n",
       "0    LIN                 Linde PLC  United Kingdom   \n",
       "1    CCL      Carnival Corporation  United Kingdom   \n",
       "2    SSE                STERIS PLC  United Kingdom   \n",
       "3    MMM                3M Company   United States   \n",
       "4    AXP  American Express Company   United States   \n",
       "\n",
       "                             indices  \n",
       "0  DAX,EURO STOXX 50,S&P 100,S&P 500  \n",
       "1                            S&P 500  \n",
       "2                            S&P 500  \n",
       "3          DOW JONES,S&P 100,S&P 500  \n",
       "4          DOW JONES,S&P 100,S&P 500  "
      ]
     },
     "execution_count": 167,
     "metadata": {},
     "output_type": "execute_result"
    }
   ],
   "source": [
    "dfp_tickers.head(5)"
   ]
  },
  {
   "cell_type": "code",
   "execution_count": 168,
   "id": "01516c96",
   "metadata": {},
   "outputs": [],
   "source": [
    "tickers = list(dfp_tickers[\"symbol\"].unique())"
   ]
  },
  {
   "cell_type": "code",
   "execution_count": 169,
   "id": "fc2e218d",
   "metadata": {},
   "outputs": [
    {
     "data": {
      "text/plain": [
       "520"
      ]
     },
     "execution_count": 169,
     "metadata": {},
     "output_type": "execute_result"
    }
   ],
   "source": [
    "len(tickers)"
   ]
  },
  {
   "cell_type": "markdown",
   "id": "1e88e703",
   "metadata": {},
   "source": [
    "# 2. Stock Price Data from yfinance"
   ]
  },
  {
   "cell_type": "code",
   "execution_count": 181,
   "id": "b0edca6e",
   "metadata": {},
   "outputs": [],
   "source": [
    "def get_all_stocks_data(tickers: List[str], start_date: str, end_date: str) -> pd.DataFrame:\n",
    "    \"\"\"\n",
    "    Downloads price and volume data from yahoo finance for a list of ticker symbols for a time\n",
    "    period specified by a start date and end date\n",
    "    :param tickers: List[str], ticker symbols for which data is downloaded form yahoo finance\n",
    "    :param start_date: str, format: %Y-%m-%d, the start date\n",
    "    :param end_date: str, format: %Y-%m-%d, the end date\n",
    "    :return:\n",
    "    \"\"\"\n",
    "    n_tickers = len(tickers)\n",
    "    iterations = 2\n",
    "    step_size = int(n_tickers / iterations-1)\n",
    "\n",
    "    df_list = []\n",
    "    for k in range(0, iterations):\n",
    "        print(k, \"of\", iterations)\n",
    "        tickers_tmp = tickers[k:k + step_size]\n",
    "        if len(tickers_tmp) > 0:\n",
    "            sep = \" \"\n",
    "            tickers_string = sep.join(tickers_tmp)\n",
    "            df_tmp = yf.download(tickers_string, \n",
    "                                 start=start_date, \n",
    "                                 end=end_date, \n",
    "                                 group_by='ticker', \n",
    "                                 interval=\"1d\")\n",
    "            df_list.append(df_tmp)\n",
    "\n",
    "    df_time_series = pd.concat(df_list)\n",
    "\n",
    "    df_list = []\n",
    "    for ticker in list(df_time_series.columns.levels[0]):\n",
    "        df_tmp = df_time_series[ticker]\n",
    "        df_tmp[\"symbol\"] = ticker\n",
    "        df_tmp = df_tmp[[\"symbol\", \"Close\", \"Volume\"]]\n",
    "        df_list.append(df_tmp)\n",
    "\n",
    "    df_ts = pd.concat(df_list)\n",
    "    df_ts = df_ts.reset_index()\n",
    "    df_ts[\"Date\"] = df_ts[\"Date\"].astype(str)\n",
    "    df_ts[\"year\"] = df_ts[\"Date\"].str.split(\"-\", expand=True)[0].astype(int)\n",
    "    df_ts[\"month\"] = df_ts[\"Date\"].str.split(\"-\", expand=True)[1].astype(int)\n",
    "    df_ts[\"day\"] = df_ts[\"Date\"].str.split(\"-\", expand=True)[2].astype(int)\n",
    "    df_ts = df_ts.drop(columns= [\"Date\"])\n",
    "    df_ts = df_ts.dropna()\n",
    "\n",
    "    renamed_columns = {\n",
    "        \"Close\": \"closing_price\",\n",
    "        \"Volume\": \"volume\"\n",
    "    }\n",
    "\n",
    "    df_ts = df_ts.rename(columns=renamed_columns)\n",
    "    return df_ts"
   ]
  },
  {
   "cell_type": "code",
   "execution_count": 182,
   "id": "175d7844",
   "metadata": {},
   "outputs": [
    {
     "name": "stdout",
     "output_type": "stream",
     "text": [
      "[*********************100%***********************]  1 of 1 completed\n"
     ]
    }
   ],
   "source": [
    "df_tmp = yf.download(\"MSFT\", start=\"2021-01-01\", \n",
    "                     end = \"2021-03-01\", group_by='ticker', interval=\"1d\")"
   ]
  },
  {
   "cell_type": "code",
   "execution_count": 183,
   "id": "f6c1fb61",
   "metadata": {},
   "outputs": [
    {
     "name": "stdout",
     "output_type": "stream",
     "text": [
      "0 of 2\n",
      "[*********************100%***********************]  259 of 259 completed\n",
      "\n",
      "3 Failed downloads:\n",
      "- COG: No data found, symbol may be delisted\n",
      "- SSE: None\n",
      "- RTN: No data found, symbol may be delisted\n",
      "1 of 2\n",
      "[*********************100%***********************]  259 of 259 completed\n",
      "\n",
      "3 Failed downloads:\n",
      "- COG: No data found, symbol may be delisted\n",
      "- SSE: None\n",
      "- RTN: No data found, symbol may be delisted\n"
     ]
    },
    {
     "name": "stderr",
     "output_type": "stream",
     "text": [
      "/Users/ralf/opt/anaconda3/envs/nb/lib/python3.7/site-packages/ipykernel_launcher.py:33: SettingWithCopyWarning: \n",
      "A value is trying to be set on a copy of a slice from a DataFrame.\n",
      "Try using .loc[row_indexer,col_indexer] = value instead\n",
      "\n",
      "See the caveats in the documentation: https://pandas.pydata.org/pandas-docs/stable/user_guide/indexing.html#returning-a-view-versus-a-copy\n"
     ]
    },
    {
     "name": "stdout",
     "output_type": "stream",
     "text": [
      "time for downloading 3 months of stock data 81.17370510101318\n"
     ]
    }
   ],
   "source": [
    "import time\n",
    "start = time.time()\n",
    "df2 = get_all_stocks_data(tickers= tickers, start_date=\"2020-01-01\", end_date = \"2020-04-01\")\n",
    "end = time.time()\n",
    "print(\"time for downloading 3 months of stock data\",end-start)"
   ]
  },
  {
   "cell_type": "code",
   "execution_count": 184,
   "id": "98f7114a",
   "metadata": {},
   "outputs": [
    {
     "data": {
      "text/plain": [
       "(32256, 6)"
      ]
     },
     "execution_count": 184,
     "metadata": {},
     "output_type": "execute_result"
    }
   ],
   "source": [
    "df2.shape"
   ]
  },
  {
   "cell_type": "code",
   "execution_count": 185,
   "id": "cb5fd3cb",
   "metadata": {},
   "outputs": [
    {
     "data": {
      "text/html": [
       "<div>\n",
       "<style scoped>\n",
       "    .dataframe tbody tr th:only-of-type {\n",
       "        vertical-align: middle;\n",
       "    }\n",
       "\n",
       "    .dataframe tbody tr th {\n",
       "        vertical-align: top;\n",
       "    }\n",
       "\n",
       "    .dataframe thead th {\n",
       "        text-align: right;\n",
       "    }\n",
       "</style>\n",
       "<table border=\"1\" class=\"dataframe\">\n",
       "  <thead>\n",
       "    <tr style=\"text-align: right;\">\n",
       "      <th></th>\n",
       "      <th>symbol</th>\n",
       "      <th>closing_price</th>\n",
       "      <th>volume</th>\n",
       "      <th>year</th>\n",
       "      <th>month</th>\n",
       "      <th>day</th>\n",
       "    </tr>\n",
       "  </thead>\n",
       "  <tbody>\n",
       "    <tr>\n",
       "      <th>0</th>\n",
       "      <td>A</td>\n",
       "      <td>85.309998</td>\n",
       "      <td>1176200.0</td>\n",
       "      <td>2019</td>\n",
       "      <td>12</td>\n",
       "      <td>31</td>\n",
       "    </tr>\n",
       "    <tr>\n",
       "      <th>1</th>\n",
       "      <td>A</td>\n",
       "      <td>85.949997</td>\n",
       "      <td>1410500.0</td>\n",
       "      <td>2020</td>\n",
       "      <td>1</td>\n",
       "      <td>2</td>\n",
       "    </tr>\n",
       "    <tr>\n",
       "      <th>2</th>\n",
       "      <td>A</td>\n",
       "      <td>84.570000</td>\n",
       "      <td>1118300.0</td>\n",
       "      <td>2020</td>\n",
       "      <td>1</td>\n",
       "      <td>3</td>\n",
       "    </tr>\n",
       "    <tr>\n",
       "      <th>3</th>\n",
       "      <td>A</td>\n",
       "      <td>84.820000</td>\n",
       "      <td>1993200.0</td>\n",
       "      <td>2020</td>\n",
       "      <td>1</td>\n",
       "      <td>6</td>\n",
       "    </tr>\n",
       "    <tr>\n",
       "      <th>4</th>\n",
       "      <td>A</td>\n",
       "      <td>85.080002</td>\n",
       "      <td>1684700.0</td>\n",
       "      <td>2020</td>\n",
       "      <td>1</td>\n",
       "      <td>7</td>\n",
       "    </tr>\n",
       "  </tbody>\n",
       "</table>\n",
       "</div>"
      ],
      "text/plain": [
       "  symbol  closing_price     volume  year  month  day\n",
       "0      A      85.309998  1176200.0  2019     12   31\n",
       "1      A      85.949997  1410500.0  2020      1    2\n",
       "2      A      84.570000  1118300.0  2020      1    3\n",
       "3      A      84.820000  1993200.0  2020      1    6\n",
       "4      A      85.080002  1684700.0  2020      1    7"
      ]
     },
     "execution_count": 185,
     "metadata": {},
     "output_type": "execute_result"
    }
   ],
   "source": [
    "df2.head(5)"
   ]
  },
  {
   "cell_type": "code",
   "execution_count": 186,
   "id": "0831d008",
   "metadata": {},
   "outputs": [
    {
     "data": {
      "text/plain": [
       "symbol            object\n",
       "closing_price    float64\n",
       "volume           float64\n",
       "year               int64\n",
       "month              int64\n",
       "day                int64\n",
       "dtype: object"
      ]
     },
     "execution_count": 186,
     "metadata": {},
     "output_type": "execute_result"
    }
   ],
   "source": [
    "df2.dtypes"
   ]
  },
  {
   "cell_type": "markdown",
   "id": "fa02d85e",
   "metadata": {},
   "source": [
    "# 3. Balance Sheet Data From Quandl"
   ]
  },
  {
   "cell_type": "code",
   "execution_count": 187,
   "id": "f2ee8724",
   "metadata": {},
   "outputs": [],
   "source": [
    "path_quandl = \"/Users/ralf/Documents/6000_stocks/US_CORE_FINANCIAL_DATA_FULL_HISTORY/SHARADAR_SF1_017f04a0d2ef7cc409f920be72167ada.csv\""
   ]
  },
  {
   "cell_type": "code",
   "execution_count": 208,
   "id": "5c41dfd1",
   "metadata": {},
   "outputs": [],
   "source": [
    "df_quandl = pd.read_csv(path_quandl)\n",
    "\n",
    "cols = ['ticker',\n",
    "        'dimension',\n",
    "'reportperiod',\n",
    "'liabilities',\n",
    "'debt',\n",
    "'equity',\n",
    "'assets',\n",
    "'marketcap',\n",
    "'netinc',\n",
    "'ebit',\n",
    "'shareswa',\n",
    "'shareswadil']\n",
    "\n",
    "df_quandl = df_quandl[cols]\n",
    "# convert from USD to billion USD\n",
    "df_quandl[\"liabilities\"] = df_quandl[\"liabilities\"]/1e+09\n",
    "df_quandl[\"debt\"] = df_quandl[\"debt\"]/1e+09\n",
    "df_quandl[\"equity\"] = df_quandl[\"equity\"]/1e+09\n",
    "df_quandl[\"assets\"] = df_quandl[\"assets\"]/1e+09\n",
    "df_quandl[\"marketcap\"] = df_quandl[\"marketcap\"]/1e+09\n",
    "df_quandl[\"netinc\"] = df_quandl[\"netinc\"]/1e+09\n",
    "df_quandl[\"ebit\"] = df_quandl[\"ebit\"]/1e+09\n",
    "df_quandl[\"shareswa\"] = df_quandl[\"shareswa\"]/1e+09\n",
    "df_quandl[\"shareswadil\"] = df_quandl[\"shareswadil\"]/1e+09\n",
    "# calculate additional indicators\n",
    "df_quandl[\"earning_yield\"] = df_quandl[\"netinc\"]/df_quandl[\"marketcap\"]\n",
    "df_quandl[\"rota\"] = df_quandl[\"netinc\"]/df_quandl[\"assets\"]\n",
    "# Add columns for year, month and day\n",
    "df_quandl[\"year\"] = df_quandl[\"reportperiod\"].str.split(\"-\", expand=True)[0].astype(int)\n",
    "df_quandl[\"month\"] = df_quandl[\"reportperiod\"].str.split(\"-\", expand=True)[1].astype(int)\n",
    "df_quandl[\"day\"] = df_quandl[\"reportperiod\"].str.split(\"-\", expand=True)[2].astype(int)\n"
   ]
  },
  {
   "cell_type": "code",
   "execution_count": null,
   "id": "ade1088c",
   "metadata": {},
   "outputs": [],
   "source": [
    "df_quandl.shape"
   ]
  },
  {
   "cell_type": "code",
   "execution_count": null,
   "id": "0791bcba",
   "metadata": {},
   "outputs": [],
   "source": [
    "df_quandl.dtypes"
   ]
  },
  {
   "cell_type": "code",
   "execution_count": null,
   "id": "f28c95fe",
   "metadata": {},
   "outputs": [],
   "source": [
    "df_quandl[df_quandl[\"ticker\"] == \"MSFT\"]"
   ]
  },
  {
   "cell_type": "markdown",
   "id": "c47725e7",
   "metadata": {},
   "source": [
    "# 4. M2 Money Supply Data"
   ]
  },
  {
   "cell_type": "markdown",
   "id": "58807bb5",
   "metadata": {},
   "source": [
    "Data source: https://stats.oecd.org/"
   ]
  },
  {
   "cell_type": "code",
   "execution_count": 224,
   "id": "1a688f0f",
   "metadata": {},
   "outputs": [],
   "source": [
    "path = \"/Users/ralf/Documents/6000_stocks/MEI_FIN_20012022224609367.csv\"\n",
    "df_m3 = pd.read_csv(path)\n",
    "\n",
    "df_m3[\"year\"] = df_m3[\"TIME\"].str.split(\"-\",expand=True)[0]\n",
    "df_m3[\"quarter\"] = df_m3[\"TIME\"].str.split(\"-\",expand=True)[1]\n",
    "\n",
    "def replace_none(x):\n",
    "    if not x:\n",
    "         return \"full_year\" \n",
    "    else:\n",
    "        return x\n",
    "    \n",
    "df_m3[\"quarter\"] = df_m3[\"quarter\"].apply(replace_none)\n",
    "\n",
    "cols = [\n",
    "    \"TIME\",\n",
    "    \"Value\",\n",
    "    \"Country\",\n",
    "    \"Frequency\"\n",
    "]\n",
    "\n",
    "#df_m3 = df_m3[cols]\n",
    "\n",
    "renamed_columns = {\n",
    "    \"Value\": \"value\",\n",
    "    \"Country\": \"country\",\n",
    "    \"Frequency\": \"frequency\",\n",
    "}\n",
    "\n",
    "\n",
    "df_m3 = df_m3.rename(columns=renamed_columns)"
   ]
  },
  {
   "cell_type": "code",
   "execution_count": 225,
   "id": "b219b8f4",
   "metadata": {},
   "outputs": [
    {
     "data": {
      "text/plain": [
       "(1422, 19)"
      ]
     },
     "execution_count": 225,
     "metadata": {},
     "output_type": "execute_result"
    }
   ],
   "source": [
    "df_m3.shape"
   ]
  },
  {
   "cell_type": "code",
   "execution_count": 226,
   "id": "2a9610b3",
   "metadata": {},
   "outputs": [
    {
     "data": {
      "text/html": [
       "<div>\n",
       "<style scoped>\n",
       "    .dataframe tbody tr th:only-of-type {\n",
       "        vertical-align: middle;\n",
       "    }\n",
       "\n",
       "    .dataframe tbody tr th {\n",
       "        vertical-align: top;\n",
       "    }\n",
       "\n",
       "    .dataframe thead th {\n",
       "        text-align: right;\n",
       "    }\n",
       "</style>\n",
       "<table border=\"1\" class=\"dataframe\">\n",
       "  <thead>\n",
       "    <tr style=\"text-align: right;\">\n",
       "      <th></th>\n",
       "      <th>SUBJECT</th>\n",
       "      <th>Subject</th>\n",
       "      <th>LOCATION</th>\n",
       "      <th>country</th>\n",
       "      <th>FREQUENCY</th>\n",
       "      <th>frequency</th>\n",
       "      <th>TIME</th>\n",
       "      <th>Time</th>\n",
       "      <th>Unit Code</th>\n",
       "      <th>Unit</th>\n",
       "      <th>PowerCode Code</th>\n",
       "      <th>PowerCode</th>\n",
       "      <th>Reference Period Code</th>\n",
       "      <th>Reference Period</th>\n",
       "      <th>value</th>\n",
       "      <th>Flag Codes</th>\n",
       "      <th>Flags</th>\n",
       "      <th>year</th>\n",
       "      <th>quarter</th>\n",
       "    </tr>\n",
       "  </thead>\n",
       "  <tbody>\n",
       "    <tr>\n",
       "      <th>0</th>\n",
       "      <td>MABM</td>\n",
       "      <td>Broad Money (M3) Index, SA</td>\n",
       "      <td>USA</td>\n",
       "      <td>United States</td>\n",
       "      <td>A</td>\n",
       "      <td>Annual</td>\n",
       "      <td>1980</td>\n",
       "      <td>1980</td>\n",
       "      <td>IDX</td>\n",
       "      <td>Index</td>\n",
       "      <td>0</td>\n",
       "      <td>Units</td>\n",
       "      <td>2015_100</td>\n",
       "      <td>2015=100</td>\n",
       "      <td>12.78966</td>\n",
       "      <td>NaN</td>\n",
       "      <td>NaN</td>\n",
       "      <td>1980</td>\n",
       "      <td>full_year</td>\n",
       "    </tr>\n",
       "    <tr>\n",
       "      <th>1</th>\n",
       "      <td>MABM</td>\n",
       "      <td>Broad Money (M3) Index, SA</td>\n",
       "      <td>USA</td>\n",
       "      <td>United States</td>\n",
       "      <td>A</td>\n",
       "      <td>Annual</td>\n",
       "      <td>1981</td>\n",
       "      <td>1981</td>\n",
       "      <td>IDX</td>\n",
       "      <td>Index</td>\n",
       "      <td>0</td>\n",
       "      <td>Units</td>\n",
       "      <td>2015_100</td>\n",
       "      <td>2015=100</td>\n",
       "      <td>13.94482</td>\n",
       "      <td>NaN</td>\n",
       "      <td>NaN</td>\n",
       "      <td>1981</td>\n",
       "      <td>full_year</td>\n",
       "    </tr>\n",
       "    <tr>\n",
       "      <th>2</th>\n",
       "      <td>MABM</td>\n",
       "      <td>Broad Money (M3) Index, SA</td>\n",
       "      <td>USA</td>\n",
       "      <td>United States</td>\n",
       "      <td>A</td>\n",
       "      <td>Annual</td>\n",
       "      <td>1982</td>\n",
       "      <td>1982</td>\n",
       "      <td>IDX</td>\n",
       "      <td>Index</td>\n",
       "      <td>0</td>\n",
       "      <td>Units</td>\n",
       "      <td>2015_100</td>\n",
       "      <td>2015=100</td>\n",
       "      <td>15.20398</td>\n",
       "      <td>NaN</td>\n",
       "      <td>NaN</td>\n",
       "      <td>1982</td>\n",
       "      <td>full_year</td>\n",
       "    </tr>\n",
       "    <tr>\n",
       "      <th>3</th>\n",
       "      <td>MABM</td>\n",
       "      <td>Broad Money (M3) Index, SA</td>\n",
       "      <td>USA</td>\n",
       "      <td>United States</td>\n",
       "      <td>A</td>\n",
       "      <td>Annual</td>\n",
       "      <td>1983</td>\n",
       "      <td>1983</td>\n",
       "      <td>IDX</td>\n",
       "      <td>Index</td>\n",
       "      <td>0</td>\n",
       "      <td>Units</td>\n",
       "      <td>2015_100</td>\n",
       "      <td>2015=100</td>\n",
       "      <td>17.06026</td>\n",
       "      <td>NaN</td>\n",
       "      <td>NaN</td>\n",
       "      <td>1983</td>\n",
       "      <td>full_year</td>\n",
       "    </tr>\n",
       "    <tr>\n",
       "      <th>4</th>\n",
       "      <td>MABM</td>\n",
       "      <td>Broad Money (M3) Index, SA</td>\n",
       "      <td>USA</td>\n",
       "      <td>United States</td>\n",
       "      <td>A</td>\n",
       "      <td>Annual</td>\n",
       "      <td>1984</td>\n",
       "      <td>1984</td>\n",
       "      <td>IDX</td>\n",
       "      <td>Index</td>\n",
       "      <td>0</td>\n",
       "      <td>Units</td>\n",
       "      <td>2015_100</td>\n",
       "      <td>2015=100</td>\n",
       "      <td>18.42620</td>\n",
       "      <td>NaN</td>\n",
       "      <td>NaN</td>\n",
       "      <td>1984</td>\n",
       "      <td>full_year</td>\n",
       "    </tr>\n",
       "  </tbody>\n",
       "</table>\n",
       "</div>"
      ],
      "text/plain": [
       "  SUBJECT                     Subject LOCATION        country FREQUENCY  \\\n",
       "0    MABM  Broad Money (M3) Index, SA      USA  United States         A   \n",
       "1    MABM  Broad Money (M3) Index, SA      USA  United States         A   \n",
       "2    MABM  Broad Money (M3) Index, SA      USA  United States         A   \n",
       "3    MABM  Broad Money (M3) Index, SA      USA  United States         A   \n",
       "4    MABM  Broad Money (M3) Index, SA      USA  United States         A   \n",
       "\n",
       "  frequency  TIME  Time Unit Code   Unit  PowerCode Code PowerCode  \\\n",
       "0    Annual  1980  1980       IDX  Index               0     Units   \n",
       "1    Annual  1981  1981       IDX  Index               0     Units   \n",
       "2    Annual  1982  1982       IDX  Index               0     Units   \n",
       "3    Annual  1983  1983       IDX  Index               0     Units   \n",
       "4    Annual  1984  1984       IDX  Index               0     Units   \n",
       "\n",
       "  Reference Period Code Reference Period     value  Flag Codes  Flags  year  \\\n",
       "0              2015_100         2015=100  12.78966         NaN    NaN  1980   \n",
       "1              2015_100         2015=100  13.94482         NaN    NaN  1981   \n",
       "2              2015_100         2015=100  15.20398         NaN    NaN  1982   \n",
       "3              2015_100         2015=100  17.06026         NaN    NaN  1983   \n",
       "4              2015_100         2015=100  18.42620         NaN    NaN  1984   \n",
       "\n",
       "     quarter  \n",
       "0  full_year  \n",
       "1  full_year  \n",
       "2  full_year  \n",
       "3  full_year  \n",
       "4  full_year  "
      ]
     },
     "execution_count": 226,
     "metadata": {},
     "output_type": "execute_result"
    }
   ],
   "source": [
    "df_m3.head(5)"
   ]
  },
  {
   "cell_type": "code",
   "execution_count": 213,
   "id": "c4981b02",
   "metadata": {},
   "outputs": [
    {
     "data": {
      "text/plain": [
       "Text(0.5, 0, 'Time (years)')"
      ]
     },
     "execution_count": 213,
     "metadata": {},
     "output_type": "execute_result"
    },
    {
     "data": {
      "image/png": "[encoded data removed]",
      "text/plain": [
       "<Figure size 1080x576 with 1 Axes>"
      ]
     },
     "metadata": {
      "needs_background": "light"
     },
     "output_type": "display_data"
    }
   ],
   "source": [
    "df_tmp = df_m3[df_m3[\"Country\"] == 'United States']\n",
    "df_tmp = df_tmp[df_tmp[\"Frequency\"] == \"Annual\"]\n",
    "\n",
    "import matplotlib.pyplot as plt\n",
    "\n",
    "plt.figure(figsize = (15,8))\n",
    "plt.scatter(df_tmp[\"TIME\"],df_tmp[\"Value\"])\n",
    "plt.ylabel(\"Printed Money M3 (%) - 2015 == 100%\")\n",
    "plt.xlabel(\"Time (years)\")"
   ]
  },
  {
   "cell_type": "markdown",
   "id": "136ce7d3",
   "metadata": {},
   "source": [
    "Next steps:\n",
    "\n",
    "stage to s3:\n",
    "\n",
    "- Ordner struktur und Dateinamen festlegen\n",
    "- implementieren für tickers und spotprices\n",
    "\n",
    ">>> import to redshift:\n",
    "\n",
    "4 tabellen: tickers, spot_prices, fundamentals, m3_money_supply"
   ]
  },
  {
   "cell_type": "code",
   "execution_count": null,
   "id": "93918412",
   "metadata": {},
   "outputs": [],
   "source": []
  }
 ],
 "metadata": {
  "kernelspec": {
   "display_name": "Python 3 (ipykernel)",
   "language": "python",
   "name": "python3"
  },
  "language_info": {
   "codemirror_mode": {
    "name": "ipython",
    "version": 3
   },
   "file_extension": ".py",
   "mimetype": "text/x-python",
   "name": "python",
   "nbconvert_exporter": "python",
   "pygments_lexer": "ipython3",
   "version": "3.7.0"
  }
 },
 "nbformat": 4,
 "nbformat_minor": 5
}
